{
 "cells": [
  {
   "cell_type": "code",
   "execution_count": 1,
   "metadata": {},
   "outputs": [
    {
     "name": "stdout",
     "output_type": "stream",
     "text": [
      "Model of Machine Learning based on K nearest neightbour\n"
     ]
    }
   ],
   "source": [
    "print(\"Model of Machine Learning based on K nearest neightbour\")"
   ]
  },
  {
   "cell_type": "code",
   "execution_count": 1,
   "metadata": {},
   "outputs": [],
   "source": [
    "import sqlalchemy as sqla\n",
    "from sqlalchemy import create_engine\n",
    "import traceback\n",
    "import glob\n",
    "import os\n",
    "from pprint import pprint\n",
    "import simplejson as json\n",
    "import requests\n",
    "import time\n",
    "from IPython.display import display\n",
    "import pandas as pd\n",
    "import pymysql\n",
    "from datetime import datetime, timedelta \n",
    "import math"
   ]
  },
  {
   "cell_type": "markdown",
   "metadata": {},
   "source": [
    "This model is based on the K Nearest Neighbour algorithm. The input elements are weather conditions, wind speed, time, and day of the week. Usually, these elements can most affect the rider's willingness to ride. I first calculate the distance between the forecast and the historical data (the difference between each element is substituted into the distance formula). Then select the top five of the shortest distance, that is, k is equal to 5. Then use the weighted average to calculate the average. This average value is the predicted value.<br>\n",
    "The knn algorithm was chosen because the model does not require training while ensuring a certain accuracy."
   ]
  },
  {
   "cell_type": "code",
   "execution_count": 2,
   "metadata": {},
   "outputs": [],
   "source": [
    "def bubble_sort(nums):\n",
    "    for i in range(len(nums)):\n",
    "        for j in range(len(nums) - i - 1):  \n",
    "            if nums[j][0] > nums[j + 1][0]:\n",
    "                nums[j], nums[j + 1] = nums[j + 1], nums[j]\n",
    "\n",
    "    return nums"
   ]
  },
  {
   "cell_type": "code",
   "execution_count": 11,
   "metadata": {},
   "outputs": [],
   "source": [
    "def get_prediction_data(date,time):\n",
    "    dic_w = {'Clear':1,'Clouds':2,'Mist':3,'Drizzle':4,'Fog':5,'Rain':6,'Snow':7}\n",
    "    weekday = datetime.strptime(date,\"%Y-%m-%d\").weekday()\n",
    "    #day = datetime.strptime(date,\"%Y-%m-%d\").day\n",
    "    time = str(time) + \":00:00\"\n",
    "    dic = get_forecast_test(date + ' ' + time)\n",
    "    con = dic_w[dic['condition']]\n",
    "    dic['condition'] = con\n",
    "    dic['time'] = date + ' ' + time\n",
    "    dic['weekday'] = weekday\n",
    "    return dic\n",
    "\n",
    "def get_forecast(date):\n",
    "    day = datetime.strptime(date,\"%Y-%m-%d %H:%M:%S\")\n",
    "    day_now = datetime.now()\n",
    "    day = (day - day_now).total_seconds()/3600\n",
    "    hour = int(day / 3)\n",
    "    url = 'https://api.openweathermap.org/data/2.5/forecast?lat=53.36&lon=-6.25&appid=dbb2b9eb4f9424b9c2c168ad52c077d9'\n",
    "    info = requests.get(url).json()\n",
    "    wind_speed = info['list'][hour]['wind']['speed']\n",
    "    condition = info['list'][hour]['weather'][0]['main']\n",
    "    temp = info['list'][hour]['main']['temp']\n",
    "    return {'wind':wind_speed,'condition':condition,'temp':temp}\n",
    "\n",
    "def get_forecast_test(date):\n",
    "    dic_weather = {}\n",
    "    low = datetime.strptime(date,\"%Y-%m-%d %H:%M:%S\")\n",
    "    high = low + timedelta(hours = 8)\n",
    "    df = pd.read_csv('old_weather.csv')\n",
    "    df['datetime'] = df['datetime'].astype('datetime64')\n",
    "    temp=df[(df['datetime']>=low) & (df['datetime']<=high)]\n",
    "    dic_weather['condition'] = temp.iloc[[0],[3]].values[0][0]\n",
    "    dic_weather['wind'] = temp.iloc[[0],[9]].values[0][0]\n",
    "    dic_weather['temp'] = temp.iloc[[0],[6]].values[0][0]\n",
    "    return dic_weather"
   ]
  },
  {
   "cell_type": "code",
   "execution_count": 38,
   "metadata": {
    "scrolled": true
   },
   "outputs": [],
   "source": [
    "def get_csv():\n",
    "    low = '2020-03-04 09:39:43'\n",
    "    high = '2020-03-24 09:47:28'\n",
    "    sql = \"SELECT * FROM dbike.weather where `datetime` between '\"+ low +\"' and '\"+ high +\"';\"\n",
    "    conn = pymysql.connect(\"dbike.cerj203fcxcq.eu-west-1.rds.amazonaws.com\", \"yuhao\", \"qwert2008\", \"dbike\")\n",
    "    df = pd.read_sql(sql, con=conn)\n",
    "    df.to_csv(\"old_weather.csv\",index=False)"
   ]
  },
  {
   "cell_type": "code",
   "execution_count": 39,
   "metadata": {},
   "outputs": [],
   "source": [
    "def get_old_weather(low,df):\n",
    "    dic_old_weather = {}\n",
    "    dic_w = {'Clear':1,'Clouds':2,'Mist':3,'Drizzle':4,'Fog':5,'Rain':6,'Snow':7}\n",
    "    #low = datetime.strptime(low,\"%Y-%m-%d %H:%M:%S\")\n",
    "    high = low + timedelta(hours = 8)\n",
    "    #low = '2020-03-04 15:20:02'\n",
    "    #high = '2020-03-04 15:40:02'\n",
    "    temp=df[(df['datetime']>=low) & (df['datetime']<=high)]\n",
    "    #temp.head(100)\n",
    "    if temp.empty:\n",
    "        return dic_old_weather\n",
    "    temp.iloc[[0],[3]].values[0][0]\n",
    "    #print(data)\n",
    "    dic_old_weather['condition'] = dic_w[temp.iloc[[0],[3]].values[0][0]]\n",
    "    dic_old_weather['wind'] = temp.iloc[[0],[9]].values[0][0]\n",
    "    dic_old_weather['temp'] = temp.iloc[[0],[6]].values[0][0]\n",
    "    return dic_old_weather\n",
    "\n",
    "def prediction(number,date,time):\n",
    "    #get_csv()\n",
    "    calender = date + ' ' + \"00:00:00\"\n",
    "    db = pymysql.connect(\"dbike.cerj203fcxcq.eu-west-1.rds.amazonaws.com\", \"yuhao\", \"qwert2008\", \"dbike\")\n",
    "    cursor = db.cursor()\n",
    "    sql = \"SELECT * FROM dbike.daily_data where `number` = \"+ str(number) + \" and `last_update` between '2020-03-03 12:00:02' and '\" + calender + \"' group by last_update;\"\n",
    "    cursor.execute(sql)\n",
    "    db.commit()\n",
    "    data = cursor.fetchall()\n",
    "    cursor.close()\n",
    "    length = len(data)\n",
    "    i = 0\n",
    "    count = 0\n",
    "    dic_pre = get_prediction_data(date,time)\n",
    "    date_new = datetime.strptime(dic_pre['time'],\"%Y-%m-%d %H:%M:%S\")\n",
    "    li = []\n",
    "    #print(length)\n",
    "    df = pd.read_csv('old_weather.csv')\n",
    "    df['datetime'] = df['datetime'].astype('datetime64')\n",
    "    while i < length:\n",
    "        date_old = data[i][4]\n",
    "        available_bike_stands = data[i][2]\n",
    "        available_bikes = data[i][3]\n",
    "        weekday_old = date_old.weekday()\n",
    "        dic_old = get_old_weather(date_old,df)\n",
    "        i = i + 1\n",
    "        if count == 5:\n",
    "            break\n",
    "        if not dic_old:\n",
    "            continue\n",
    "        d_condition = float(dic_pre['condition'])-float(dic_old['condition'])\n",
    "        d_wind = (float(dic_pre['wind']) - float(dic_old['wind']))*5\n",
    "        if date_new.hour*10000+date_new.minute*100+date_new.second > date_old.hour*10000+date_old.minute*100+date_old.second:\n",
    "            d_time = (date_new - date_old).seconds/3600\n",
    "        else:\n",
    "            d_time = (date_old - date_new).seconds/3600\n",
    "        d_week = int(dic_pre['weekday'])-int(weekday_old)\n",
    "        d_time = round(d_time,3)\n",
    "        #print(d_condition)\n",
    "        #print(d_wind)\n",
    "        #print(d_time,end=\" \")\n",
    "        #print(d_week)\n",
    "        distance = math.sqrt(d_wind**2 + d_condition**2 + d_time**2 + d_week**2)\n",
    "        li.append([distance,available_bikes,available_bike_stands])\n",
    "        #print(li)\n",
    "    #print(len(li))\n",
    "    bubble_sort(li)\n",
    "    #print(li[0],li[1],li[2])\n",
    "    weight = 1/li[0][0] + 1/li[1][0] + 1/li[2][0] + 1/li[3][0] + 1/li[4][0]\n",
    "    prediction_bikes = (int(li[0][1])*(1/li[0][0]) + int(li[1][1])*(1/li[1][0]) + int(li[2][1])*(1/li[2][0]) + int(li[3][1])*(1/li[3][0]) + int(li[4][1])*(1/li[4][0]))/ weight\n",
    "    prediction_stands = (int(li[0][2])*(1/li[0][0]) + int(li[1][2])*(1/li[1][0]) + int(li[2][2])*(1/li[2][0]) + int(li[3][2])*(1/li[3][0]) + int(li[4][2])*(1/li[4][0]))/weight\n",
    "    dic = {}\n",
    "    dic_w = {'1':'Clear','2':'Clouds','3':'Mist','4':'Drizzle','5':'Fog','6':'Rain','7':'Snow'}\n",
    "    dic['prediction_bikes']=prediction_bikes\n",
    "    dic['prediction_stands']=prediction_stands\n",
    "    dic['condition'] = dic_w[str(dic_pre['condition'])]\n",
    "    dic['wind'] = dic_pre['wind']\n",
    "    dic['temp'] = dic_pre['temp']\n",
    "    return dic"
   ]
  },
  {
   "cell_type": "code",
   "execution_count": null,
   "metadata": {
    "scrolled": true
   },
   "outputs": [],
   "source": []
  },
  {
   "cell_type": "code",
   "execution_count": 41,
   "metadata": {},
   "outputs": [],
   "source": [
    "def actual_data(number,date,time):\n",
    "    calender = date + ' ' + time + \":00:00\"\n",
    "    db = pymysql.connect(\"dbike.cerj203fcxcq.eu-west-1.rds.amazonaws.com\", \"yuhao\", \"qwert2008\", \"dbike\")\n",
    "    cursor = db.cursor()\n",
    "    sql = \"SELECT * FROM dbike.daily_data where `number` = \"+ str(number) + \" and `last_update` between '\" + calender + \"' and '2020-04-01 07:20:02' group by last_update;\"\n",
    "    cursor.execute(sql)\n",
    "    db.commit()\n",
    "    data = cursor.fetchall()\n",
    "    cursor.close()\n",
    "    available_bike_stands = data[0][2]\n",
    "    available_bikes = data[0][3]\n",
    "    print(\"Actual_bikes is\",available_bikes,\"Actual_stands is\",available_bike_stands)"
   ]
  },
  {
   "cell_type": "code",
   "execution_count": 42,
   "metadata": {},
   "outputs": [],
   "source": [
    "def test(station,times):\n",
    "    i = 1\n",
    "    day = 18\n",
    "    while i <= times:\n",
    "        date = '2020-03-' + str(day+i)\n",
    "        print(\"-------------test \",i,\" start--------------\")\n",
    "        print(date)\n",
    "        dic = prediction(station,date,'09')\n",
    "        print(\"prediction_bikes is\",int(dic['prediction_bikes']),\"prediction_stands is\",int(dic['prediction_stands']))\n",
    "        actual_data(station,date,'09')\n",
    "        print()\n",
    "        print(\"-------------test \",i,\" end--------------\")\n",
    "        print()\n",
    "        i = i + 1\n"
   ]
  },
  {
   "cell_type": "code",
   "execution_count": 43,
   "metadata": {},
   "outputs": [
    {
     "name": "stdout",
     "output_type": "stream",
     "text": [
      "-------------test  1  start--------------\n",
      "2020-03-19\n",
      "prediction_bikes is 5 prediction_stands is 24\n",
      "Actual_bikes is 3 Actual_stands is 27\n",
      "\n",
      "-------------test  1  end--------------\n",
      "\n",
      "-------------test  2  start--------------\n",
      "2020-03-20\n",
      "prediction_bikes is 5 prediction_stands is 24\n",
      "Actual_bikes is 7 Actual_stands is 23\n",
      "\n",
      "-------------test  2  end--------------\n",
      "\n",
      "-------------test  3  start--------------\n",
      "2020-03-21\n",
      "prediction_bikes is 11 prediction_stands is 18\n",
      "Actual_bikes is 14 Actual_stands is 16\n",
      "\n",
      "-------------test  3  end--------------\n",
      "\n",
      "-------------test  4  start--------------\n",
      "2020-03-22\n",
      "prediction_bikes is 8 prediction_stands is 21\n",
      "Actual_bikes is 9 Actual_stands is 21\n",
      "\n",
      "-------------test  4  end--------------\n",
      "\n",
      "-------------test  5  start--------------\n",
      "2020-03-23\n",
      "prediction_bikes is 12 prediction_stands is 15\n",
      "Actual_bikes is 4 Actual_stands is 26\n",
      "\n",
      "-------------test  5  end--------------\n",
      "\n"
     ]
    }
   ],
   "source": [
    "test(32,5)"
   ]
  },
  {
   "cell_type": "code",
   "execution_count": 44,
   "metadata": {},
   "outputs": [
    {
     "name": "stdout",
     "output_type": "stream",
     "text": [
      "-------------test  1  start--------------\n",
      "2020-03-19\n",
      "prediction_bikes is 5 prediction_stands is 14\n",
      "Actual_bikes is 8 Actual_stands is 13\n",
      "\n",
      "-------------test  1  end--------------\n",
      "\n",
      "-------------test  2  start--------------\n",
      "2020-03-20\n",
      "prediction_bikes is 9 prediction_stands is 11\n",
      "Actual_bikes is 13 Actual_stands is 8\n",
      "\n",
      "-------------test  2  end--------------\n",
      "\n",
      "-------------test  3  start--------------\n",
      "2020-03-21\n",
      "prediction_bikes is 7 prediction_stands is 13\n",
      "Actual_bikes is 0 Actual_stands is 21\n",
      "\n",
      "-------------test  3  end--------------\n",
      "\n",
      "-------------test  4  start--------------\n",
      "2020-03-22\n",
      "prediction_bikes is 7 prediction_stands is 13\n",
      "Actual_bikes is 5 Actual_stands is 16\n",
      "\n",
      "-------------test  4  end--------------\n",
      "\n",
      "-------------test  5  start--------------\n",
      "2020-03-23\n",
      "prediction_bikes is 12 prediction_stands is 8\n",
      "Actual_bikes is 18 Actual_stands is 3\n",
      "\n",
      "-------------test  5  end--------------\n",
      "\n"
     ]
    }
   ],
   "source": [
    "test(40,5)"
   ]
  },
  {
   "cell_type": "code",
   "execution_count": 46,
   "metadata": {},
   "outputs": [
    {
     "name": "stdout",
     "output_type": "stream",
     "text": [
      "-------------test  1  start--------------\n",
      "2020-03-19\n",
      "prediction_bikes is 2 prediction_stands is 17\n",
      "Actual_bikes is 6 Actual_stands is 14\n",
      "\n",
      "-------------test  1  end--------------\n",
      "\n",
      "-------------test  2  start--------------\n",
      "2020-03-20\n",
      "prediction_bikes is 10 prediction_stands is 9\n",
      "Actual_bikes is 11 Actual_stands is 9\n",
      "\n",
      "-------------test  2  end--------------\n",
      "\n",
      "-------------test  3  start--------------\n",
      "2020-03-21\n",
      "prediction_bikes is 4 prediction_stands is 15\n",
      "Actual_bikes is 0 Actual_stands is 20\n",
      "\n",
      "-------------test  3  end--------------\n",
      "\n",
      "-------------test  4  start--------------\n",
      "2020-03-22\n",
      "prediction_bikes is 1 prediction_stands is 18\n",
      "Actual_bikes is 1 Actual_stands is 19\n",
      "\n",
      "-------------test  4  end--------------\n",
      "\n",
      "-------------test  5  start--------------\n",
      "2020-03-23\n",
      "prediction_bikes is 19 prediction_stands is 0\n",
      "Actual_bikes is 7 Actual_stands is 13\n",
      "\n",
      "-------------test  5  end--------------\n",
      "\n"
     ]
    }
   ],
   "source": [
    "test(6,5)"
   ]
  },
  {
   "cell_type": "code",
   "execution_count": null,
   "metadata": {},
   "outputs": [],
   "source": []
  },
  {
   "cell_type": "code",
   "execution_count": null,
   "metadata": {},
   "outputs": [],
   "source": []
  },
  {
   "cell_type": "code",
   "execution_count": null,
   "metadata": {},
   "outputs": [],
   "source": []
  },
  {
   "cell_type": "code",
   "execution_count": null,
   "metadata": {},
   "outputs": [],
   "source": []
  },
  {
   "cell_type": "code",
   "execution_count": null,
   "metadata": {},
   "outputs": [],
   "source": []
  }
 ],
 "metadata": {
  "kernelspec": {
   "display_name": "Python 3",
   "language": "python",
   "name": "python3"
  },
  "language_info": {
   "codemirror_mode": {
    "name": "ipython",
    "version": 3
   },
   "file_extension": ".py",
   "mimetype": "text/x-python",
   "name": "python",
   "nbconvert_exporter": "python",
   "pygments_lexer": "ipython3",
   "version": "3.8.1"
  }
 },
 "nbformat": 4,
 "nbformat_minor": 4
}
