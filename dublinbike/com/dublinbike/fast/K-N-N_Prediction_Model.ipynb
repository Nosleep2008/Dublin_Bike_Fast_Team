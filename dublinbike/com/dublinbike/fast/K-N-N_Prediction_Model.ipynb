{
 "cells": [
  {
   "cell_type": "code",
   "execution_count": 18,
   "metadata": {},
   "outputs": [
    {
     "name": "stdout",
     "output_type": "stream",
     "text": [
      "My model of Machine Learning based on K nearest neightbour\n"
     ]
    }
   ],
   "source": [
    "print(\"My model of Machine Learning based on K nearest neightbour\")"
   ]
  },
  {
   "cell_type": "code",
   "execution_count": 19,
   "metadata": {},
   "outputs": [],
   "source": [
    "import sqlalchemy as sqla\n",
    "from sqlalchemy import create_engine\n",
    "import traceback\n",
    "import glob\n",
    "import os\n",
    "from pprint import pprint\n",
    "import simplejson as json\n",
    "import requests\n",
    "import time\n",
    "from IPython.display import display\n",
    "import pandas as pd\n",
    "import pymysql\n",
    "from datetime import datetime, timedelta \n",
    "import math"
   ]
  },
  {
   "cell_type": "code",
   "execution_count": null,
   "metadata": {},
   "outputs": [],
   "source": []
  },
  {
   "cell_type": "code",
   "execution_count": 20,
   "metadata": {},
   "outputs": [],
   "source": [
    "# def bubble_sort(nums):\n",
    "#     for i in range(5):\n",
    "#         for j in range(len(nums) - i - 1):  \n",
    "#             if nums[j][0] > nums[j + 1][0]:\n",
    "#                 nums[j], nums[j + 1] = nums[j + 1], nums[j]\n",
    "\n",
    "#     return nums\n",
    "def bubble_sort(nums):\n",
    "    for i in range(len(nums)):\n",
    "        for j in range(len(nums) - i - 1):  \n",
    "            if nums[j][0] > nums[j + 1][0]:\n",
    "                nums[j+1], nums[j] = nums[j], nums[j+1]\n",
    "        \n",
    "    return nums"
   ]
  },
  {
   "cell_type": "code",
   "execution_count": 21,
   "metadata": {},
   "outputs": [],
   "source": [
    "def get_prediction_data(date,time):\n",
    "    dic_w = {'Clear':1,'Clouds':2,'Mist':3,'Drizzle':4,'Fog':5,'Rain':6,'Snow':7}\n",
    "    weekday = datetime.strptime(date,\"%Y-%m-%d\").weekday()\n",
    "    #day = datetime.strptime(date,\"%Y-%m-%d\").day\n",
    "    time = str(time) + \":00:00\"\n",
    "    dic = get_forecast(date + ' ' + time)\n",
    "    con = dic_w[dic['condition']]\n",
    "    dic['condition'] = con\n",
    "    dic['time'] = date + ' ' + time\n",
    "    dic['weekday'] = weekday\n",
    "    return dic\n",
    "\n",
    "def get_forecast(date):\n",
    "    day = datetime.strptime(date,\"%Y-%m-%d %H:%M:%S\")\n",
    "    day_now = datetime.now()\n",
    "    day = (day - day_now).total_seconds()/3600\n",
    "    hour = int(day / 3)\n",
    "    url = 'https://api.openweathermap.org/data/2.5/forecast?lat=53.36&lon=-6.25&appid=dbb2b9eb4f9424b9c2c168ad52c077d9'\n",
    "    info = requests.get(url).json()\n",
    "    wind_speed = info['list'][hour]['wind']['speed']\n",
    "    condition = info['list'][hour]['weather'][0]['main']\n",
    "    return {'wind':wind_speed,'condition':condition}"
   ]
  },
  {
   "cell_type": "code",
   "execution_count": null,
   "metadata": {
    "scrolled": true
   },
   "outputs": [],
   "source": []
  },
  {
   "cell_type": "code",
   "execution_count": 22,
   "metadata": {},
   "outputs": [],
   "source": [
    "def get_old_weather(date):\n",
    "    dic_w = {'Clear':1,'Clouds':2,'Mist':3,'Drizzle':4,'Fog':5,'Rain':6,'Snow':7}\n",
    "    date_new = date + timedelta(hours = 8)\n",
    "    sql = \"SELECT * FROM dbike.weather where `datetime` between '\"+str(date)+\"' and '\"+str(date_new)+\"';\"\n",
    "    db = pymysql.connect(\"dbike.cerj203fcxcq.eu-west-1.rds.amazonaws.com\", \"yuhao\", \"qwert2008\", \"dbike\")\n",
    "    cursor = db.cursor()\n",
    "    cursor.execute(sql)\n",
    "    db.commit()\n",
    "    data = cursor.fetchall()\n",
    "    cursor.close()\n",
    "    db.close()\n",
    "    #print(data)\n",
    "    dic_old_weather = {}\n",
    "    dic_old_weather['condition'] = dic_w[data[0][3]]\n",
    "    dic_old_weather['wind'] = data[0][9]\n",
    "    dic_old_weather['temp'] = data[0][6]\n",
    "    return dic_old_weather\n",
    "\n",
    "def prediction(number,date,time):\n",
    "    db0 = pymysql.connect(\"dbike.cerj203fcxcq.eu-west-1.rds.amazonaws.com\", \"yuhao\", \"qwert2008\", \"dbike\")\n",
    "    cursor0 = db0.cursor()\n",
    "    sql0=\"SELECT * FROM dbike.daily_data where `number` = \" + str(number) + \" group by last_update;\"\n",
    "    cursor0.execute(sql0)\n",
    "    db0.commit()\n",
    "    data = cursor0.fetchall()\n",
    "    cursor0.close()\n",
    "    db0.close()\n",
    "    length = len(data)\n",
    "    i = 0\n",
    "    dic_pre = get_prediction_data(date,time)\n",
    "    date_new = datetime.strptime(dic_pre['time'],\"%Y-%m-%d %H:%M:%S\")\n",
    "    li = []\n",
    "    low = datetime.strptime('2020-03-04 09:39:43',\"%Y-%m-%d %H:%M:%S\")\n",
    "    high = datetime.strptime('2020-03-24 09:47:28',\"%Y-%m-%d %H:%M:%S\")\n",
    "    dic_w = {'Clear':1,'Clouds':2,'Mist':3,'Drizzle':4,'Fog':5,'Rain':6,'Snow':7}\n",
    "    db = pymysql.connect(\"dbike.cerj203fcxcq.eu-west-1.rds.amazonaws.com\", \"yuhao\", \"qwert2008\", \"dbike\")\n",
    "    cursor = db.cursor()\n",
    "    dic_old_weather = {}\n",
    "    dic_old = {}\n",
    "    while i < length:\n",
    "        date_old = data[i][4]\n",
    "#         print(date_old)\n",
    "        datetime.strptime(str(date_old),\"%Y-%m-%d %H:%M:%S\")\n",
    "        if date_old < low or date_old > high:\n",
    "            i = i + 1\n",
    "            continue\n",
    "        available_bike_stands = data[i][2]\n",
    "        available_bikes = data[i][3]\n",
    "        weekday_old = date_old.weekday()\n",
    "        \n",
    "        \n",
    "        date_new_q = date_old + timedelta(hours = 8)\n",
    "#         print(str(date_old), str(date_new_q))\n",
    "        cursor.execute(\"SELECT * FROM dbike.weather where `datetime` between '%s' and '%s' ;\" % (str(date_old), str(date_new_q)))\n",
    "        data_o = cursor.fetchone()\n",
    "        #print(data_o)\n",
    "        dic_old_weather['condition'] = dic_w[data_o[3]]\n",
    "        dic_old_weather['wind'] = data_o[9]\n",
    "        dic_old_weather['temp'] = data_o[6]\n",
    "        dic_old = dic_old_weather\n",
    "        \n",
    "        \n",
    "        d_condition = float(dic_pre['condition'])-float(dic_old['condition'])\n",
    "        d_wind = (float(dic_pre['wind']) - float(dic_old['wind']))*5\n",
    "        if date_new.hour*10000+date_new.minute*100+date_new.second > date_old.hour*10000+date_old.minute*100+date_old.second:\n",
    "            d_time = (date_new - date_old).seconds/3600\n",
    "        else:\n",
    "            d_time = (date_old - date_new).seconds/3600\n",
    "        d_week = int(dic_pre['weekday'])-int(weekday_old)\n",
    "#         print(d_condition)\n",
    "#         print(d_wind)\n",
    "#         print(d_time)\n",
    "#         print(d_week)\n",
    "        distance = math.sqrt(d_wind**2 + d_condition**2 + d_time**2 + d_week**2)\n",
    "        li.append([distance,available_bikes,available_bike_stands])\n",
    "        #print(li)\n",
    "        i = i + 1\n",
    "    db.commit()\n",
    "    cursor.close()\n",
    "    db.close()\n",
    "    bubble_sort(li)\n",
    "    print(li[0],li[1],li[2],li[3],li[4],li[5],li[6],li[7],li[8])\n",
    "    weight = 1/li[0][0] + 1/li[1][0] + 1/li[2][0] + 1/li[3][0] + 1/li[4][0]\n",
    "    prediction_bikes = (li[0][1]*(1/li[0][0]) + li[1][1]*(1/li[1][0]) + li[2][1]*(1/li[2][0]) + li[3][1]*(1/li[3][0]) + li[4][1]*(1/li[4][0]))/ weight\n",
    "    prediction_stands = (li[0][2]*(1/li[0][0]) + li[1][2]*(1/li[1][0]) + li[2][2]*(1/li[2][0]) + li[3][2]*(1/li[3][0]) + li[4][2]*(1/li[4][0]))/weight\n",
    "    dic = {}\n",
    "    dic['prediction_bikes']=prediction_bikes\n",
    "    dic['prediction_stands']=prediction_stands\n",
    "    dic['condition'] = dic_pre['condition']\n",
    "    dic['wind'] = dic_pre['wind']\n",
    "    dic['temp'] = dic_pre['temp']\n",
    "    return dic\n"
   ]
  },
  {
   "cell_type": "code",
   "execution_count": 23,
   "metadata": {
    "scrolled": false
   },
   "outputs": [
    {
     "name": "stdout",
     "output_type": "stream",
     "text": [
      "[1.2990499852575068, '10', '20'] [1.3662059126204258, '10', '20'] [1.450083118094516, '10', '20'] [1.5479658346709853, '10', '20'] [2.2374990344159578, '0', '30'] [2.2736993297213477, '1', '29'] [2.295388039090558, '0', '30'] [2.3654637168384154, '0', '30'] [2.4117081314104136, '0', '30']\n"
     ]
    },
    {
     "ename": "TypeError",
     "evalue": "can't multiply sequence by non-int of type 'float'",
     "output_type": "error",
     "traceback": [
      "\u001b[0;31m---------------------------------------------------------------------------\u001b[0m",
      "\u001b[0;31mTypeError\u001b[0m                                 Traceback (most recent call last)",
      "\u001b[0;32m<ipython-input-23-d1f9a5f9f669>\u001b[0m in \u001b[0;36m<module>\u001b[0;34m\u001b[0m\n\u001b[0;32m----> 1\u001b[0;31m \u001b[0mprint\u001b[0m\u001b[0;34m(\u001b[0m\u001b[0mprediction\u001b[0m\u001b[0;34m(\u001b[0m\u001b[0;36m32\u001b[0m\u001b[0;34m,\u001b[0m\u001b[0;34m'2020-04-12'\u001b[0m\u001b[0;34m,\u001b[0m\u001b[0;34m'09'\u001b[0m\u001b[0;34m)\u001b[0m\u001b[0;34m)\u001b[0m\u001b[0;34m\u001b[0m\u001b[0;34m\u001b[0m\u001b[0m\n\u001b[0m",
      "\u001b[0;32m<ipython-input-22-e0ca92d1f96c>\u001b[0m in \u001b[0;36mprediction\u001b[0;34m(number, date, time)\u001b[0m\n\u001b[1;32m     82\u001b[0m     \u001b[0mprint\u001b[0m\u001b[0;34m(\u001b[0m\u001b[0mli\u001b[0m\u001b[0;34m[\u001b[0m\u001b[0;36m0\u001b[0m\u001b[0;34m]\u001b[0m\u001b[0;34m,\u001b[0m\u001b[0mli\u001b[0m\u001b[0;34m[\u001b[0m\u001b[0;36m1\u001b[0m\u001b[0;34m]\u001b[0m\u001b[0;34m,\u001b[0m\u001b[0mli\u001b[0m\u001b[0;34m[\u001b[0m\u001b[0;36m2\u001b[0m\u001b[0;34m]\u001b[0m\u001b[0;34m,\u001b[0m\u001b[0mli\u001b[0m\u001b[0;34m[\u001b[0m\u001b[0;36m3\u001b[0m\u001b[0;34m]\u001b[0m\u001b[0;34m,\u001b[0m\u001b[0mli\u001b[0m\u001b[0;34m[\u001b[0m\u001b[0;36m4\u001b[0m\u001b[0;34m]\u001b[0m\u001b[0;34m,\u001b[0m\u001b[0mli\u001b[0m\u001b[0;34m[\u001b[0m\u001b[0;36m5\u001b[0m\u001b[0;34m]\u001b[0m\u001b[0;34m,\u001b[0m\u001b[0mli\u001b[0m\u001b[0;34m[\u001b[0m\u001b[0;36m6\u001b[0m\u001b[0;34m]\u001b[0m\u001b[0;34m,\u001b[0m\u001b[0mli\u001b[0m\u001b[0;34m[\u001b[0m\u001b[0;36m7\u001b[0m\u001b[0;34m]\u001b[0m\u001b[0;34m,\u001b[0m\u001b[0mli\u001b[0m\u001b[0;34m[\u001b[0m\u001b[0;36m8\u001b[0m\u001b[0;34m]\u001b[0m\u001b[0;34m)\u001b[0m\u001b[0;34m\u001b[0m\u001b[0;34m\u001b[0m\u001b[0m\n\u001b[1;32m     83\u001b[0m     \u001b[0mweight\u001b[0m \u001b[0;34m=\u001b[0m \u001b[0;36m1\u001b[0m\u001b[0;34m/\u001b[0m\u001b[0mli\u001b[0m\u001b[0;34m[\u001b[0m\u001b[0;36m0\u001b[0m\u001b[0;34m]\u001b[0m\u001b[0;34m[\u001b[0m\u001b[0;36m0\u001b[0m\u001b[0;34m]\u001b[0m \u001b[0;34m+\u001b[0m \u001b[0;36m1\u001b[0m\u001b[0;34m/\u001b[0m\u001b[0mli\u001b[0m\u001b[0;34m[\u001b[0m\u001b[0;36m1\u001b[0m\u001b[0;34m]\u001b[0m\u001b[0;34m[\u001b[0m\u001b[0;36m0\u001b[0m\u001b[0;34m]\u001b[0m \u001b[0;34m+\u001b[0m \u001b[0;36m1\u001b[0m\u001b[0;34m/\u001b[0m\u001b[0mli\u001b[0m\u001b[0;34m[\u001b[0m\u001b[0;36m2\u001b[0m\u001b[0;34m]\u001b[0m\u001b[0;34m[\u001b[0m\u001b[0;36m0\u001b[0m\u001b[0;34m]\u001b[0m \u001b[0;34m+\u001b[0m \u001b[0;36m1\u001b[0m\u001b[0;34m/\u001b[0m\u001b[0mli\u001b[0m\u001b[0;34m[\u001b[0m\u001b[0;36m3\u001b[0m\u001b[0;34m]\u001b[0m\u001b[0;34m[\u001b[0m\u001b[0;36m0\u001b[0m\u001b[0;34m]\u001b[0m \u001b[0;34m+\u001b[0m \u001b[0;36m1\u001b[0m\u001b[0;34m/\u001b[0m\u001b[0mli\u001b[0m\u001b[0;34m[\u001b[0m\u001b[0;36m4\u001b[0m\u001b[0;34m]\u001b[0m\u001b[0;34m[\u001b[0m\u001b[0;36m0\u001b[0m\u001b[0;34m]\u001b[0m\u001b[0;34m\u001b[0m\u001b[0;34m\u001b[0m\u001b[0m\n\u001b[0;32m---> 84\u001b[0;31m     \u001b[0mprediction_bikes\u001b[0m \u001b[0;34m=\u001b[0m \u001b[0;34m(\u001b[0m\u001b[0mli\u001b[0m\u001b[0;34m[\u001b[0m\u001b[0;36m0\u001b[0m\u001b[0;34m]\u001b[0m\u001b[0;34m[\u001b[0m\u001b[0;36m1\u001b[0m\u001b[0;34m]\u001b[0m\u001b[0;34m*\u001b[0m\u001b[0;34m(\u001b[0m\u001b[0;36m1\u001b[0m\u001b[0;34m/\u001b[0m\u001b[0mli\u001b[0m\u001b[0;34m[\u001b[0m\u001b[0;36m0\u001b[0m\u001b[0;34m]\u001b[0m\u001b[0;34m[\u001b[0m\u001b[0;36m0\u001b[0m\u001b[0;34m]\u001b[0m\u001b[0;34m)\u001b[0m \u001b[0;34m+\u001b[0m \u001b[0mli\u001b[0m\u001b[0;34m[\u001b[0m\u001b[0;36m1\u001b[0m\u001b[0;34m]\u001b[0m\u001b[0;34m[\u001b[0m\u001b[0;36m1\u001b[0m\u001b[0;34m]\u001b[0m\u001b[0;34m*\u001b[0m\u001b[0;34m(\u001b[0m\u001b[0;36m1\u001b[0m\u001b[0;34m/\u001b[0m\u001b[0mli\u001b[0m\u001b[0;34m[\u001b[0m\u001b[0;36m1\u001b[0m\u001b[0;34m]\u001b[0m\u001b[0;34m[\u001b[0m\u001b[0;36m0\u001b[0m\u001b[0;34m]\u001b[0m\u001b[0;34m)\u001b[0m \u001b[0;34m+\u001b[0m \u001b[0mli\u001b[0m\u001b[0;34m[\u001b[0m\u001b[0;36m2\u001b[0m\u001b[0;34m]\u001b[0m\u001b[0;34m[\u001b[0m\u001b[0;36m1\u001b[0m\u001b[0;34m]\u001b[0m\u001b[0;34m*\u001b[0m\u001b[0;34m(\u001b[0m\u001b[0;36m1\u001b[0m\u001b[0;34m/\u001b[0m\u001b[0mli\u001b[0m\u001b[0;34m[\u001b[0m\u001b[0;36m2\u001b[0m\u001b[0;34m]\u001b[0m\u001b[0;34m[\u001b[0m\u001b[0;36m0\u001b[0m\u001b[0;34m]\u001b[0m\u001b[0;34m)\u001b[0m \u001b[0;34m+\u001b[0m \u001b[0mli\u001b[0m\u001b[0;34m[\u001b[0m\u001b[0;36m3\u001b[0m\u001b[0;34m]\u001b[0m\u001b[0;34m[\u001b[0m\u001b[0;36m1\u001b[0m\u001b[0;34m]\u001b[0m\u001b[0;34m*\u001b[0m\u001b[0;34m(\u001b[0m\u001b[0;36m1\u001b[0m\u001b[0;34m/\u001b[0m\u001b[0mli\u001b[0m\u001b[0;34m[\u001b[0m\u001b[0;36m3\u001b[0m\u001b[0;34m]\u001b[0m\u001b[0;34m[\u001b[0m\u001b[0;36m0\u001b[0m\u001b[0;34m]\u001b[0m\u001b[0;34m)\u001b[0m \u001b[0;34m+\u001b[0m \u001b[0mli\u001b[0m\u001b[0;34m[\u001b[0m\u001b[0;36m4\u001b[0m\u001b[0;34m]\u001b[0m\u001b[0;34m[\u001b[0m\u001b[0;36m1\u001b[0m\u001b[0;34m]\u001b[0m\u001b[0;34m*\u001b[0m\u001b[0;34m(\u001b[0m\u001b[0;36m1\u001b[0m\u001b[0;34m/\u001b[0m\u001b[0mli\u001b[0m\u001b[0;34m[\u001b[0m\u001b[0;36m4\u001b[0m\u001b[0;34m]\u001b[0m\u001b[0;34m[\u001b[0m\u001b[0;36m0\u001b[0m\u001b[0;34m]\u001b[0m\u001b[0;34m)\u001b[0m\u001b[0;34m)\u001b[0m\u001b[0;34m/\u001b[0m \u001b[0mweight\u001b[0m\u001b[0;34m\u001b[0m\u001b[0;34m\u001b[0m\u001b[0m\n\u001b[0m\u001b[1;32m     85\u001b[0m     \u001b[0mprediction_stands\u001b[0m \u001b[0;34m=\u001b[0m \u001b[0;34m(\u001b[0m\u001b[0mli\u001b[0m\u001b[0;34m[\u001b[0m\u001b[0;36m0\u001b[0m\u001b[0;34m]\u001b[0m\u001b[0;34m[\u001b[0m\u001b[0;36m2\u001b[0m\u001b[0;34m]\u001b[0m\u001b[0;34m*\u001b[0m\u001b[0;34m(\u001b[0m\u001b[0;36m1\u001b[0m\u001b[0;34m/\u001b[0m\u001b[0mli\u001b[0m\u001b[0;34m[\u001b[0m\u001b[0;36m0\u001b[0m\u001b[0;34m]\u001b[0m\u001b[0;34m[\u001b[0m\u001b[0;36m0\u001b[0m\u001b[0;34m]\u001b[0m\u001b[0;34m)\u001b[0m \u001b[0;34m+\u001b[0m \u001b[0mli\u001b[0m\u001b[0;34m[\u001b[0m\u001b[0;36m1\u001b[0m\u001b[0;34m]\u001b[0m\u001b[0;34m[\u001b[0m\u001b[0;36m2\u001b[0m\u001b[0;34m]\u001b[0m\u001b[0;34m*\u001b[0m\u001b[0;34m(\u001b[0m\u001b[0;36m1\u001b[0m\u001b[0;34m/\u001b[0m\u001b[0mli\u001b[0m\u001b[0;34m[\u001b[0m\u001b[0;36m1\u001b[0m\u001b[0;34m]\u001b[0m\u001b[0;34m[\u001b[0m\u001b[0;36m0\u001b[0m\u001b[0;34m]\u001b[0m\u001b[0;34m)\u001b[0m \u001b[0;34m+\u001b[0m \u001b[0mli\u001b[0m\u001b[0;34m[\u001b[0m\u001b[0;36m2\u001b[0m\u001b[0;34m]\u001b[0m\u001b[0;34m[\u001b[0m\u001b[0;36m2\u001b[0m\u001b[0;34m]\u001b[0m\u001b[0;34m*\u001b[0m\u001b[0;34m(\u001b[0m\u001b[0;36m1\u001b[0m\u001b[0;34m/\u001b[0m\u001b[0mli\u001b[0m\u001b[0;34m[\u001b[0m\u001b[0;36m2\u001b[0m\u001b[0;34m]\u001b[0m\u001b[0;34m[\u001b[0m\u001b[0;36m0\u001b[0m\u001b[0;34m]\u001b[0m\u001b[0;34m)\u001b[0m \u001b[0;34m+\u001b[0m \u001b[0mli\u001b[0m\u001b[0;34m[\u001b[0m\u001b[0;36m3\u001b[0m\u001b[0;34m]\u001b[0m\u001b[0;34m[\u001b[0m\u001b[0;36m2\u001b[0m\u001b[0;34m]\u001b[0m\u001b[0;34m*\u001b[0m\u001b[0;34m(\u001b[0m\u001b[0;36m1\u001b[0m\u001b[0;34m/\u001b[0m\u001b[0mli\u001b[0m\u001b[0;34m[\u001b[0m\u001b[0;36m3\u001b[0m\u001b[0;34m]\u001b[0m\u001b[0;34m[\u001b[0m\u001b[0;36m0\u001b[0m\u001b[0;34m]\u001b[0m\u001b[0;34m)\u001b[0m \u001b[0;34m+\u001b[0m \u001b[0mli\u001b[0m\u001b[0;34m[\u001b[0m\u001b[0;36m4\u001b[0m\u001b[0;34m]\u001b[0m\u001b[0;34m[\u001b[0m\u001b[0;36m2\u001b[0m\u001b[0;34m]\u001b[0m\u001b[0;34m*\u001b[0m\u001b[0;34m(\u001b[0m\u001b[0;36m1\u001b[0m\u001b[0;34m/\u001b[0m\u001b[0mli\u001b[0m\u001b[0;34m[\u001b[0m\u001b[0;36m4\u001b[0m\u001b[0;34m]\u001b[0m\u001b[0;34m[\u001b[0m\u001b[0;36m0\u001b[0m\u001b[0;34m]\u001b[0m\u001b[0;34m)\u001b[0m\u001b[0;34m)\u001b[0m\u001b[0;34m/\u001b[0m\u001b[0mweight\u001b[0m\u001b[0;34m\u001b[0m\u001b[0;34m\u001b[0m\u001b[0m\n\u001b[1;32m     86\u001b[0m     \u001b[0mdic\u001b[0m \u001b[0;34m=\u001b[0m \u001b[0;34m{\u001b[0m\u001b[0;34m}\u001b[0m\u001b[0;34m\u001b[0m\u001b[0;34m\u001b[0m\u001b[0m\n",
      "\u001b[0;31mTypeError\u001b[0m: can't multiply sequence by non-int of type 'float'"
     ]
    }
   ],
   "source": [
    "print(prediction(32,'2020-04-12','09'))"
   ]
  },
  {
   "cell_type": "code",
   "execution_count": null,
   "metadata": {},
   "outputs": [],
   "source": []
  },
  {
   "cell_type": "code",
   "execution_count": null,
   "metadata": {},
   "outputs": [],
   "source": []
  },
  {
   "cell_type": "code",
   "execution_count": null,
   "metadata": {},
   "outputs": [],
   "source": []
  },
  {
   "cell_type": "code",
   "execution_count": null,
   "metadata": {},
   "outputs": [],
   "source": [
    "'''\n",
    "t1 = '2020-03-04 21:18:29'\n",
    "t2 = '2020-03-06 23:25:59'\n",
    "t1 = datetime.strptime(t1,\"%Y-%m-%d %H:%M:%S\")\n",
    "t2 = datetime.strptime(t2,\"%Y-%m-%d %H:%M:%S\")\n",
    "t = t2-t1\n",
    "t = t.seconds/1800\n",
    "print(t)\n",
    "t = ((t2-t1).total_seconds())/(3600*24)\n",
    "t2 = '2020-04-11'\n",
    "t2 = datetime.strptime(t2,\"%Y-%m-%d\").day\n",
    "t = datetime.now().day\n",
    "print(t)\n",
    "date = '2020-04-14 21:18:29'\n",
    "day = datetime.strptime(date,\"%Y-%m-%d %H:%M:%S\")\n",
    "day_now = datetime.now()\n",
    "day = (day - day_now).total_seconds()/3600\n",
    "print(day/3)\n",
    "'''"
   ]
  }
 ],
 "metadata": {
  "kernelspec": {
   "display_name": "Python [conda env:comp30830]",
   "language": "python",
   "name": "conda-env-comp30830-py"
  },
  "language_info": {
   "codemirror_mode": {
    "name": "ipython",
    "version": 3
   },
   "file_extension": ".py",
   "mimetype": "text/x-python",
   "name": "python",
   "nbconvert_exporter": "python",
   "pygments_lexer": "ipython3",
   "version": "3.7.6"
  },
  "toc": {
   "base_numbering": 1,
   "nav_menu": {},
   "number_sections": true,
   "sideBar": true,
   "skip_h1_title": false,
   "title_cell": "Table of Contents",
   "title_sidebar": "Contents",
   "toc_cell": false,
   "toc_position": {},
   "toc_section_display": true,
   "toc_window_display": false
  }
 },
 "nbformat": 4,
 "nbformat_minor": 4
}
