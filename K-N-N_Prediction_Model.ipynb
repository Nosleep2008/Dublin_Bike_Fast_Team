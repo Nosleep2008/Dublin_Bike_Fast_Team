{
 "cells": [
  {
   "cell_type": "code",
   "execution_count": 1,
   "metadata": {},
   "outputs": [
    {
     "name": "stdout",
     "output_type": "stream",
     "text": [
      "My model of Machine Learning based on K nearest neightbour\n"
     ]
    }
   ],
   "source": [
    "print(\"My model of Machine Learning based on K nearest neightbour\")"
   ]
  },
  {
   "cell_type": "code",
   "execution_count": 7,
   "metadata": {},
   "outputs": [],
   "source": [
    "import sqlalchemy as sqla\n",
    "from sqlalchemy import create_engine\n",
    "import traceback\n",
    "import glob\n",
    "import os\n",
    "from pprint import pprint\n",
    "import simplejson as json\n",
    "import requests\n",
    "import time\n",
    "from IPython.display import display\n",
    "import pandas as pd\n",
    "import pymysql\n",
    "from datetime import datetime, timedelta \n",
    "import math"
   ]
  },
  {
   "cell_type": "code",
   "execution_count": null,
   "metadata": {},
   "outputs": [],
   "source": []
  },
  {
   "cell_type": "code",
   "execution_count": 2,
   "metadata": {},
   "outputs": [],
   "source": [
    "def bubble_sort(nums):\n",
    "    for i in range(5):\n",
    "        for j in range(len(nums) - i - 1):  \n",
    "            if nums[j][0] > nums[j + 1][0]:\n",
    "                nums[j], nums[j + 1] = nums[j + 1], nums[j]\n",
    "\n",
    "    return nums"
   ]
  },
  {
   "cell_type": "code",
   "execution_count": 3,
   "metadata": {},
   "outputs": [],
   "source": [
    "def get_prediction_data(date,time):\n",
    "    dic_w = {'Clear':1,'Clouds':2,'Mist':3,'Drizzle':4,'Fog':5,'Rain':6,'Snow':7}\n",
    "    weekday = datetime.strptime(date,\"%Y-%m-%d\").weekday()\n",
    "    #day = datetime.strptime(date,\"%Y-%m-%d\").day\n",
    "    time = str(time) + \":00:00\"\n",
    "    dic = get_forecast(date + ' ' + time)\n",
    "    con = dic_w[dic['condition']]\n",
    "    dic['condition'] = con\n",
    "    dic['time'] = date + ' ' + time\n",
    "    dic['weekday'] = weekday\n",
    "    return dic\n",
    "\n",
    "def get_forecast(date):\n",
    "    day = datetime.strptime(date,\"%Y-%m-%d %H:%M:%S\")\n",
    "    day_now = datetime.now()\n",
    "    day = (day - day_now).total_seconds()/3600\n",
    "    hour = int(day / 3)\n",
    "    url = 'https://api.openweathermap.org/data/2.5/forecast?lat=53.36&lon=-6.25&appid=dbb2b9eb4f9424b9c2c168ad52c077d9'\n",
    "    info = requests.get(url).json()\n",
    "    wind_speed = info['list'][hour]['wind']['speed']\n",
    "    condition = info['list'][hour]['weather'][0]['main']\n",
    "    return {'wind':wind_speed,'condition':condition}"
   ]
  },
  {
   "cell_type": "code",
   "execution_count": null,
   "metadata": {
    "scrolled": true
   },
   "outputs": [],
   "source": []
  },
  {
   "cell_type": "code",
   "execution_count": 5,
   "metadata": {},
   "outputs": [],
   "source": [
    "def get_old_weather(date):\n",
    "    dic_w = {'Clear':1,'Clouds':2,'Mist':3,'Drizzle':4,'Fog':5,'Rain':6,'Snow':7}\n",
    "    date_new = date + timedelta(hours = 8)\n",
    "    sql = \"SELECT * FROM dbike.weather where `datetime` between '\"+str(date)+\"' and '\"+str(date_new)+\"';\"\n",
    "    db = pymysql.connect(\"dbike.cerj203fcxcq.eu-west-1.rds.amazonaws.com\", \"yuhao\", \"qwert2008\", \"dbike\")\n",
    "    cursor = db.cursor()\n",
    "    cursor.execute(sql)\n",
    "    db.commit()\n",
    "    data = cursor.fetchall()\n",
    "    cursor.close()\n",
    "    #print(data)\n",
    "    dic = {}\n",
    "    dic['condition'] = dic_w[data[0][3]]\n",
    "    dic['wind'] = data[0][9]\n",
    "    dic['temp'] = data[0][6]\n",
    "    return dic\n",
    "\n",
    "def prediction(number,date,time):\n",
    "    db = pymysql.connect(\"dbike.cerj203fcxcq.eu-west-1.rds.amazonaws.com\", \"yuhao\", \"qwert2008\", \"dbike\")\n",
    "    cursor = db.cursor()\n",
    "    sql=\"SELECT * FROM dbike.daily_data where `number` = \" + str(number) + \" group by last_update;\"\n",
    "    cursor.execute(sql)\n",
    "    db.commit()\n",
    "    data = cursor.fetchall()\n",
    "    cursor.close()\n",
    "    length = len(data)\n",
    "    i = 0\n",
    "    dic_pre = get_prediction_data(date,time)\n",
    "    date_new = datetime.strptime(dic_pre['time'],\"%Y-%m-%d %H:%M:%S\")\n",
    "    li = []\n",
    "    low = datetime.strptime('2020-03-04 09:39:43',\"%Y-%m-%d %H:%M:%S\")\n",
    "    high = datetime.strptime('2020-03-24 09:47:28',\"%Y-%m-%d %H:%M:%S\")\n",
    "    while i < length:\n",
    "        date_old = data[i][4]\n",
    "        #datetime.strptime(str(),\"%Y-%m-%d %H:%M:%S\")\n",
    "        if date_old < low or date_old > high:\n",
    "            i = i + 1\n",
    "            continue\n",
    "        available_bike_stands = data[i][2]\n",
    "        available_bikes = data[i][3]\n",
    "        weekday_old = date_old.weekday()\n",
    "        dic_old = get_old_weather(date_old)\n",
    "        d_condition = float(dic_pre['condition'])-float(dic_old['condition'])\n",
    "        d_wind = (float(dic_pre['wind']) - float(dic_old['wind']))*5\n",
    "        if date_new.hour*10000+date_new.minute*100+date_new.second > date_old.hour*10000+date_old.minute*100+date_old.second:\n",
    "            d_time = (date_new - date_old).seconds/3600\n",
    "        else:\n",
    "            d_time = (date_old - date_new).seconds/3600\n",
    "        d_week = int(dic_pre['weekday'])-int(weekday_old)\n",
    "        print(d_condition)\n",
    "        print(d_wind)\n",
    "        print(d_time)\n",
    "        print(d_week)\n",
    "        distance = math.sqrt(d_wind**2 + d_condition**2 + d_time**2 + d_week**2)\n",
    "        li.append([distance,available_bikes,available_bike_stands])\n",
    "        #print(li)\n",
    "        i = i + 1\n",
    "    bubble_sort(li)  \n",
    "    weight = 1/li[0][0] + 1/li[1][0] + 1/li[2][0] + 1/li[3][0] + 1/li[4][0]\n",
    "    prediction_bikes = (li[0][1]*(1/li[0][0]) + li[1][1]*(1/li[1][0]) + li[2][1]*(1/li[2][0]) + li[3][1]*(1/li[3][0]) + li[4][1]*(1/li[4][0]))/ weight\n",
    "    prediction_stands = (li[0][2]*(1/li[0][0]) + li[1][2]*(1/li[1][0]) + li[2][2]*(1/li[2][0]) + li[3][2]*(1/li[3][0]) + li[4][2]*(1/li[4][0]))/weight\n",
    "    dic = {}\n",
    "    dic['prediction_bikes']=prediction_bikes\n",
    "    dic['prediction_stands']=prediction_stands\n",
    "    dic['condition'] = dic_pre['condition']\n",
    "    dic['wind'] = dic_pre['wind']\n",
    "    dic['temp'] = dic_pre['temp']\n",
    "    return dic\n"
   ]
  },
  {
   "cell_type": "code",
   "execution_count": null,
   "metadata": {},
   "outputs": [],
   "source": [
    "print(prediction(32,'2020-04-12','09'))"
   ]
  },
  {
   "cell_type": "code",
   "execution_count": null,
   "metadata": {},
   "outputs": [],
   "source": []
  },
  {
   "cell_type": "code",
   "execution_count": null,
   "metadata": {},
   "outputs": [],
   "source": []
  },
  {
   "cell_type": "code",
   "execution_count": null,
   "metadata": {},
   "outputs": [],
   "source": []
  },
  {
   "cell_type": "code",
   "execution_count": null,
   "metadata": {},
   "outputs": [],
   "source": [
    "'''\n",
    "t1 = '2020-03-04 21:18:29'\n",
    "t2 = '2020-03-06 23:25:59'\n",
    "t1 = datetime.strptime(t1,\"%Y-%m-%d %H:%M:%S\")\n",
    "t2 = datetime.strptime(t2,\"%Y-%m-%d %H:%M:%S\")\n",
    "t = t2-t1\n",
    "t = t.seconds/1800\n",
    "print(t)\n",
    "t = ((t2-t1).total_seconds())/(3600*24)\n",
    "t2 = '2020-04-11'\n",
    "t2 = datetime.strptime(t2,\"%Y-%m-%d\").day\n",
    "t = datetime.now().day\n",
    "print(t)\n",
    "date = '2020-04-14 21:18:29'\n",
    "day = datetime.strptime(date,\"%Y-%m-%d %H:%M:%S\")\n",
    "day_now = datetime.now()\n",
    "day = (day - day_now).total_seconds()/3600\n",
    "print(day/3)\n",
    "'''"
   ]
  }
 ],
 "metadata": {
  "kernelspec": {
   "display_name": "Python 3",
   "language": "python",
   "name": "python3"
  },
  "language_info": {
   "codemirror_mode": {
    "name": "ipython",
    "version": 3
   },
   "file_extension": ".py",
   "mimetype": "text/x-python",
   "name": "python",
   "nbconvert_exporter": "python",
   "pygments_lexer": "ipython3",
   "version": "3.8.1"
  }
 },
 "nbformat": 4,
 "nbformat_minor": 4
}
